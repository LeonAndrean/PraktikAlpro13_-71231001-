{
 "cells": [
  {
   "cell_type": "code",
   "execution_count": 1,
   "metadata": {},
   "outputs": [
    {
     "name": "stdout",
     "output_type": "stream",
     "text": [
      "Tono: jadi angka-7 adalah angka prima\n"
     ]
    }
   ],
   "source": [
    "#Vidi adalah adik Tono yang sedang belajar bilangan prima. Vidi mengalami kesulitan\n",
    "#untuk menentukan suatu bilangan bilangan prima atau bukan. Untuk membantu adiknya\n",
    "#Tono kemudian membuat program untuk pengecekan bilangan prima dengan menggunakan\n",
    "#fungsi rekursif. Bantulah Tono untuk menyelesaikan tugas tersebut.\n",
    "angka = int(input(\"Tono: Masukkan satu angka bulatmu vidi = \"))\n",
    "def prima(data, pembagian=2):\n",
    "    if data <= 1:\n",
    "        return False\n",
    "    if pembagian * pembagian > data:\n",
    "        return True\n",
    "    if data % pembagian == 0:\n",
    "        return False\n",
    "    return prima(data, pembagian + 1)\n",
    "def pembagian_terkecil(data, pembagian=2):\n",
    "    if data % pembagian == 0:\n",
    "        return pembagian\n",
    "    return pembagian_terkecil(data, pembagian + 1)\n",
    "\n",
    "if prima(angka):\n",
    "    print(f\"Tono: jadi angka-{angka} adalah angka prima\")\n",
    "else:\n",
    "    pembagi = pembagian_terkecil(angka)\n",
    "    print(f\"Tono: angka-{angka}, bukan angka prima, karena bisa dibagi\", pembagi)"
   ]
  },
  {
   "cell_type": "code",
   "execution_count": 2,
   "metadata": {},
   "outputs": [
    {
     "name": "stdout",
     "output_type": "stream",
     "text": [
      "Bukan Palindrom\n"
     ]
    }
   ],
   "source": [
    "#Buatlah fungsi rekursif mengetahui suatu kalimat adalah palindrom atau bukan!\n",
    "kalimat = str(input(\"Masukkan kata/angka :\"))\n",
    "def palindrom(kalimat):\n",
    "    if len(kalimat) < 1:\n",
    "        return True\n",
    "    else:\n",
    "        if kalimat[0] == kalimat[-1]:\n",
    "            return palindrom(kalimat[1:-1])\n",
    "        else:\n",
    "            return False\n",
    "if(palindrom(kalimat) == True):\n",
    "    print(\"Palindrom\")\n",
    "else:\n",
    "    print(\"Bukan Palindrom\")"
   ]
  },
  {
   "cell_type": "code",
   "execution_count": 3,
   "metadata": {},
   "outputs": [
    {
     "name": "stdout",
     "output_type": "stream",
     "text": [
      "Jumlah bilangan ganjil dalam rentang : 9\n"
     ]
    }
   ],
   "source": [
    "## Buatlah fungsi rekursif untuk menghitung jumlah deret ganjil\n",
    "# dari 1 + 3 + 7 + . . . + n! \n",
    "def deret_ganjil(bil1,bil2):\n",
    "    if bil1 > bil2:\n",
    "        return 0\n",
    "    return bil1 + deret_ganjil(bil1 + 2,bil2)\n",
    "\n",
    "bil1 = 1\n",
    "bil2 = int(input(\"Masukkan limit bilangan (n) :\"))\n",
    "print(\"Jumlah bilangan ganjil dalam rentang :\",deret_ganjil(bil1,bil2))"
   ]
  },
  {
   "cell_type": "code",
   "execution_count": 4,
   "metadata": {},
   "outputs": [
    {
     "name": "stdout",
     "output_type": "stream",
     "text": [
      "Jumlah digit dari bilangan 234 adalah: 2 + 3 + 4 = 9\n"
     ]
    }
   ],
   "source": [
    "# Buatlah fungsi rekursif untuk mengetahui jumlah digit dari suatu bilangan. Seperti\n",
    "# misalnya tulisan: \"234\" maka jumlah digitnya adalah 2+3+4 = 9! \n",
    "angka = int(input(\"Input sebuah bilangan: \"))\n",
    "def digitbil(angka):\n",
    "    if angka == 0:\n",
    "        return 0, \"\"\n",
    "    else:\n",
    "        digit_terhkir = angka % 10\n",
    "        hasil, digit_pertama = digitbil(angka // 10)\n",
    "        if digit_pertama:\n",
    "            return hasil + digit_terhkir, digit_pertama + \" + \" + str(digit_terhkir)\n",
    "        else:\n",
    "            return hasil + digit_terhkir, str(digit_terhkir)\n",
    "\n",
    "jumlah, digit_string = digitbil(angka)\n",
    "print(f\"Jumlah digit dari bilangan {angka} adalah: {digit_string} = {jumlah}\")\n"
   ]
  },
  {
   "cell_type": "code",
   "execution_count": 5,
   "metadata": {},
   "outputs": [
    {
     "name": "stdout",
     "output_type": "stream",
     "text": [
      "131115985.0\n"
     ]
    }
   ],
   "source": [
    "#Buatlah fungsi rekursif untuk menghitung kombinasi!\n",
    "bil1 = int((input(\"Masukkan bilangan 1 :\")))\n",
    "bil2 = int((input(\"Masukkan bilangan 2 :\")))\n",
    "def bilangan(bil1, bil2):\n",
    "    if (bil2 == 0 ):\n",
    "        return 1\n",
    "    else:\n",
    "        int(bil1-bil2+1)\n",
    "        return (bilangan(bil1,bil2-1) * (bil1-bil2+1))\n",
    "\n",
    "def kombinasi(bil1, bil2):\n",
    "    if bil2 == 0:\n",
    "        return 1\n",
    "    else:\n",
    "        int((bil1-bil2+1)/ bil2) \n",
    "        return (kombinasi(bil1,bil2-1) * (bil1-bil2+1) / (bil2))\n",
    "bilangan(bil1, bil2) \n",
    "print(kombinasi(bil1, bil2))"
   ]
  }
 ],
 "metadata": {
  "kernelspec": {
   "display_name": "Python 3",
   "language": "python",
   "name": "python3"
  },
  "language_info": {
   "codemirror_mode": {
    "name": "ipython",
    "version": 3
   },
   "file_extension": ".py",
   "mimetype": "text/x-python",
   "name": "python",
   "nbconvert_exporter": "python",
   "pygments_lexer": "ipython3",
   "version": "3.11.4"
  }
 },
 "nbformat": 4,
 "nbformat_minor": 2
}
